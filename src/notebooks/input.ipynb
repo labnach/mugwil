{
 "cells": [
  {
   "cell_type": "markdown",
   "metadata": {},
   "source": [
    "## Download ABC tunes and convert tod MIDI."
   ]
  },
  {
   "cell_type": "code",
   "execution_count": null,
   "metadata": {},
   "outputs": [],
   "source": [
    "import requests\n",
    "\n",
    "\n",
    "url_prefix = 'http://abc.sourceforge.net/NMD/nmd/'\n",
    "\n",
    "filenames = [\n",
    "    'jigs.txt',\n",
    "    'hpps.txt',\n",
    "    'morris.txt',\n",
    "    'playford.txt',\n",
    "    'reelsa-c.txt',\n",
    "    'reelsd-g.txt',\n",
    "    'reelsh-l.txt',\n",
    "    'reelsm-q.txt',\n",
    "    'reelsr-t.txt',\n",
    "    'reelsu-z.txt',\n",
    "    'slip.txt',\n",
    "    'waltzes.txt',\n",
    "    'xmas.txt',\n",
    "    'ashover.txt',\n",
    "]\n",
    "\n",
    "!mkdir -p dataset\n",
    "for fn in filenames:\n",
    "    with open(f'dataset/{fn}', 'w') as f:\n",
    "        f.write(requests.get(url_prefix + fn).text)\n",
    "    !/abcmidi/abc2midi.exe dataset/{fn} > /dev/null"
   ]
  },
  {
   "cell_type": "markdown",
   "metadata": {},
   "source": [
    "## Load MIDI files. Keep only those with 3 tracks (they are most)."
   ]
  },
  {
   "cell_type": "code",
   "execution_count": null,
   "metadata": {},
   "outputs": [],
   "source": [
    "import random\n",
    "from collections import defaultdict\n",
    "from pathlib import Path\n",
    "\n",
    "import pretty_midi\n",
    "from IPython.display import Audio, display\n",
    "from matplotlib import pyplot as plt\n",
    "from pypianoroll import Multitrack\n",
    "\n",
    "\n",
    "midi_files = list(Path().rglob('dataset/*.mid'))\n",
    "\n",
    "midis = [pretty_midi.PrettyMIDI(str(f)) for f in midi_files]\n",
    "print(len(midis))\n",
    "\n",
    "midis = [m for m in midis if len(m.instruments) == 3]\n",
    "print(len(midis))"
   ]
  },
  {
   "cell_type": "markdown",
   "metadata": {},
   "source": [
    "## Listen and plot tracks."
   ]
  },
  {
   "cell_type": "code",
   "execution_count": null,
   "metadata": {
    "scrolled": false
   },
   "outputs": [],
   "source": [
    "import random\n",
    "\n",
    "# f = random.choice(midi_files)\n",
    "f = 'dataset/reelsh-l65.mid'\n",
    "\n",
    "midi = pretty_midi.PrettyMIDI(str(f))\n",
    "display(Audio(midi.fluidsynth(), rate=44100))\n",
    "\n",
    "pp = Multitrack(str(f))\n",
    "for t in pp.tracks:\n",
    "    t.pianoroll = t.pianoroll[:500, :]\n",
    "    fig, ax = t.plot()\n",
    "    plt.show()"
   ]
  },
  {
   "cell_type": "markdown",
   "metadata": {},
   "source": [
    "## Pitch frequency by track number."
   ]
  },
  {
   "cell_type": "code",
   "execution_count": null,
   "metadata": {},
   "outputs": [],
   "source": [
    "import pandas as pd\n",
    "import plotly.express as px\n",
    "\n",
    "\n",
    "counters = defaultdict(lambda: defaultdict(int))\n",
    "for m in midis:\n",
    "    for i, inst in enumerate(m.instruments):\n",
    "        for n in inst.notes:\n",
    "            counters[i][n.pitch] += 1\n",
    "\n",
    "counters_df = pd.DataFrame.from_dict(counters).sort_index().reset_index().rename({'index': 'pitch'}, axis=1)\n",
    "\n",
    "fig = px.bar()\n",
    "fig.add_bar(x=counters_df['pitch'],y=counters_df[0], name='melody')\n",
    "fig.add_bar(x=counters_df['pitch'],y=counters_df[1], name='bass')\n",
    "fig.add_bar(x=counters_df['pitch'],y=counters_df[2], name='harmony')\n",
    "fig.update_layout(barmode='stack')\n",
    "fig.show()"
   ]
  },
  {
   "cell_type": "markdown",
   "metadata": {},
   "source": [
    "## Pitch distance between consecutive notes in melody."
   ]
  },
  {
   "cell_type": "code",
   "execution_count": null,
   "metadata": {},
   "outputs": [],
   "source": [
    "import numpy as np\n",
    "\n",
    "def to_intervals(notes):\n",
    "    return (notes - np.roll(notes, 1))[1:]\n",
    "\n",
    "counters = defaultdict(int)\n",
    "for m in midis:\n",
    "    inst = m.instruments[0]\n",
    "    notes = np.asarray([n.pitch for n in inst.notes])\n",
    "    for interval in to_intervals(notes):\n",
    "        counters[interval] += 1\n",
    "\n",
    "fig = px.bar()\n",
    "fig.add_bar(x=list(counters.keys()),y=list(counters.values()), name='intervals')\n",
    "fig.show()"
   ]
  }
 ],
 "metadata": {
  "kernelspec": {
   "display_name": "Python 3",
   "language": "python",
   "name": "python3"
  },
  "language_info": {
   "codemirror_mode": {
    "name": "ipython",
    "version": 3
   },
   "file_extension": ".py",
   "mimetype": "text/x-python",
   "name": "python",
   "nbconvert_exporter": "python",
   "pygments_lexer": "ipython3",
   "version": "3.6.9"
  }
 },
 "nbformat": 4,
 "nbformat_minor": 4
}
