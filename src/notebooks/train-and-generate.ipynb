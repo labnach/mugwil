{
 "cells": [
  {
   "cell_type": "markdown",
   "metadata": {},
   "source": [
    "# Music Generated With LSTMs\n",
    "\n",
    "In this notebook we implement a model able to generate music from an input in ABC format. This music notation uses only ASCII chars, so it can be easily fed into RNNs. You can find details and examples of ABC notation here: http://abcnotation.com/.\n",
    "\n",
    "The dataset we'll be using is the [ABC version of the Nottingham Music Database](http://abc.sourceforge.net/NMD/)."
   ]
  },
  {
   "cell_type": "markdown",
   "metadata": {},
   "source": [
    "## Get dataset"
   ]
  },
  {
   "cell_type": "code",
   "execution_count": null,
   "metadata": {},
   "outputs": [],
   "source": [
    "import json\n",
    "import pickle\n",
    "from pathlib import Path\n",
    "\n",
    "from core.input import get_abcs, get_dataset\n",
    "\n",
    "\n",
    "VERSION = 'notebook'\n",
    "\n",
    "model_dir = Path('./model-data/{}'.format(VERSION))\n",
    "model_dir.mkdir(parents=True, exist_ok=True)\n",
    "\n",
    "abc_sources = [\n",
    "    'http://abc.sourceforge.net/NMD/nmd/jigs.txt',\n",
    "    'http://abc.sourceforge.net/NMD/nmd/hpps.txt',\n",
    "    'http://abc.sourceforge.net/NMD/nmd/morris.txt',\n",
    "    'http://abc.sourceforge.net/NMD/nmd/playford.txt',\n",
    "    'http://abc.sourceforge.net/NMD/nmd/reelsa-c.txt',\n",
    "    'http://abc.sourceforge.net/NMD/nmd/reelsd-g.txt',\n",
    "    'http://abc.sourceforge.net/NMD/nmd/reelsh-l.txt',\n",
    "    'http://abc.sourceforge.net/NMD/nmd/reelsm-q.txt',\n",
    "    'http://abc.sourceforge.net/NMD/nmd/reelsr-t.txt',\n",
    "    'http://abc.sourceforge.net/NMD/nmd/reelsu-z.txt',\n",
    "    'http://abc.sourceforge.net/NMD/nmd/slip.txt',\n",
    "    'http://abc.sourceforge.net/NMD/nmd/waltzes.txt',\n",
    "    'http://abc.sourceforge.net/NMD/nmd/xmas.txt',\n",
    "    'http://abc.sourceforge.net/NMD/nmd/ashover.txt',\n",
    "]\n",
    "\n",
    "abcs = get_abcs(abc_sources)\n",
    "dataset, token2id = get_dataset(abcs, remove_comments=True)\n",
    "\n",
    "with (model_dir/'dataset.pickle').open('wb') as f:\n",
    "    pickle.dump(dataset, f, protocol=pickle.HIGHEST_PROTOCOL)\n",
    "\n",
    "with (model_dir/'token2id.json').open('w') as f:\n",
    "    json.dump(token2id, f)"
   ]
  },
  {
   "cell_type": "code",
   "execution_count": null,
   "metadata": {},
   "outputs": [],
   "source": [
    "import pathlib\n",
    "import random\n",
    "\n",
    "import pretty_midi\n",
    "from IPython.display import Audio, display\n",
    "\n",
    "\n",
    "for abc in random.sample(abcs, 3):\n",
    "    filename = 'temp'\n",
    "    with open(filename, 'w') as f:\n",
    "        f.write(abc)\n",
    "    !/abcmidi/abc2midi.exe {filename} > /dev/null\n",
    "    midi = pretty_midi.PrettyMIDI(f'{filename}1.mid')\n",
    "    display(Audio(midi.fluidsynth(), rate=44100))\n",
    "\n",
    "pathlib.Path(filename).unlink()"
   ]
  },
  {
   "cell_type": "markdown",
   "metadata": {},
   "source": [
    "## Training time"
   ]
  },
  {
   "cell_type": "code",
   "execution_count": null,
   "metadata": {},
   "outputs": [],
   "source": [
    "import os\n",
    "os.environ['TF_CPP_MIN_LOG_LEVEL'] = '3'"
   ]
  },
  {
   "cell_type": "code",
   "execution_count": null,
   "metadata": {
    "scrolled": true
   },
   "outputs": [],
   "source": [
    "from core.model import grid_search\n",
    "\n",
    "param_grid = dict(\n",
    "    num_unique_chars=[len(token2id)],\n",
    "    batch_size=[64],\n",
    "    seq_length=[96],\n",
    "    embedding_dim=[64, 128],\n",
    "    rnn_units=[[256, 256], [128, 128, 128]],\n",
    ")\n",
    "\n",
    "grid_search(\n",
    "    dataset,\n",
    "    model_dir,\n",
    "    param_grid,\n",
    "    epochs=50,\n",
    ")\n",
    "\n",
    "\"\"\"\n",
    "best result:\n",
    "    embedding_dim=[128],\n",
    "    rnn_units=[[128, 128, 128]],\n",
    "\n",
    "overfit:\n",
    "    rnn_units=[[256, 256]],\n",
    "\"\"\""
   ]
  },
  {
   "cell_type": "code",
   "execution_count": null,
   "metadata": {},
   "outputs": [],
   "source": [
    "from core.model import grid_search\n",
    "\n",
    "param_grid = dict(\n",
    "    num_unique_chars=[len(token2id)],\n",
    "    batch_size=[64],\n",
    "    seq_length=[96],\n",
    "    embedding_dim=[128],\n",
    "    rnn_units=[[128, 128, 128]],\n",
    "    recurrent_dropout=[0.05, 0.3],\n",
    "    dropout=[0.05, 0.3],\n",
    ")\n",
    "\n",
    "grid_search(\n",
    "    dataset,\n",
    "    model_dir,\n",
    "    param_grid,\n",
    "    epochs=100,\n",
    "    initial_epoch=50,\n",
    "    weights_to_load='../batch_size=64,seq_length=96,embedding_dim=128,rnn_units=[128, 128, 128]/weights-050-0.6451-0.6392.h5'\n",
    ")"
   ]
  },
  {
   "cell_type": "code",
   "execution_count": null,
   "metadata": {},
   "outputs": [],
   "source": [
    "from core.model import train_model\n",
    "\n",
    "params = dict(\n",
    "    num_unique_chars=len(token2id),\n",
    "    batch_size=64,\n",
    "    seq_length=96,\n",
    "    embedding_dim=128,\n",
    "    rnn_units=[128, 128, 128],\n",
    "    recurrent_dropout=0.05,\n",
    "    dropout=0.3,\n",
    ")\n",
    "\n",
    "train_model(\n",
    "    dataset,\n",
    "    model_dir,\n",
    "    params,\n",
    "    epochs=100,\n",
    ")"
   ]
  },
  {
   "cell_type": "markdown",
   "metadata": {},
   "source": [
    "## Results\n",
    "\n",
    "Let's take a look at the accuracy and loss during training."
   ]
  },
  {
   "cell_type": "code",
   "execution_count": null,
   "metadata": {},
   "outputs": [],
   "source": [
    "import pandas as pd\n",
    "import plotly.express as px\n",
    "\n",
    "df = pd.read_csv(model_dir/'log.csv')\n",
    "fig = px.line()\n",
    "fig.add_scatter(x=df.epoch, y=df.acc, mode='lines', name='acc')\n",
    "fig.add_scatter(x=df.epoch, y=df.val_acc, mode='lines', name='val_acc')\n",
    "fig.show()"
   ]
  },
  {
   "cell_type": "code",
   "execution_count": null,
   "metadata": {},
   "outputs": [],
   "source": [
    "fig = px.line()\n",
    "fig.add_scatter(x=df.epoch, y=df.loss, mode='lines', name='loss')\n",
    "fig.add_scatter(x=df.epoch, y=df.val_loss, mode='lines', name='val_loss')\n",
    "fig.show()"
   ]
  },
  {
   "cell_type": "markdown",
   "metadata": {},
   "source": [
    "## Enjoy music!"
   ]
  },
  {
   "cell_type": "code",
   "execution_count": null,
   "metadata": {},
   "outputs": [],
   "source": [
    "from core.model import generate_sequence\n",
    "\n",
    "all_weights =  sorted(*[model_dir.rglob('*.h5')])\n",
    "weights_to_load = str(all_weights[-1]).split('/')[-1]\n",
    "seq = generate_sequence(model_dir, weights_to_load, output_length=1500)\n",
    "abcs = seq.split('X: 1\\n')\n",
    "abcs = '\\n'.join('X: {}\\n{}\\n'.format(i+1, abc) for i, abc in enumerate(abcs[1:]))"
   ]
  },
  {
   "cell_type": "code",
   "execution_count": null,
   "metadata": {},
   "outputs": [],
   "source": [
    "with open('abc', 'w') as f:\n",
    "    f.write(abcs)\n",
    "\n",
    "!/abcmidi/abc2midi.exe abc > /dev/null"
   ]
  },
  {
   "cell_type": "code",
   "execution_count": null,
   "metadata": {},
   "outputs": [],
   "source": [
    "import pathlib\n",
    "\n",
    "import pretty_midi\n",
    "from IPython.display import Audio, display\n",
    "\n",
    "\n",
    "path = pathlib.Path('.')\n",
    "files = [str(filename) for filename in path.rglob('*.mid')]\n",
    "\n",
    "for f in files:\n",
    "    midi = pretty_midi.PrettyMIDI(f)\n",
    "    display(Audio(midi.fluidsynth(), rate=44100))"
   ]
  }
 ],
 "metadata": {
  "kernelspec": {
   "display_name": "Python 3",
   "language": "python",
   "name": "python3"
  },
  "language_info": {
   "codemirror_mode": {
    "name": "ipython",
    "version": 3
   },
   "file_extension": ".py",
   "mimetype": "text/x-python",
   "name": "python",
   "nbconvert_exporter": "python",
   "pygments_lexer": "ipython3",
   "version": "3.6.9"
  }
 },
 "nbformat": 4,
 "nbformat_minor": 4
}
